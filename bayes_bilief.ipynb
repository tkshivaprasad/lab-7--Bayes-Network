{
 "cells": [
  {
   "cell_type": "code",
   "execution_count": 12,
   "metadata": {},
   "outputs": [],
   "source": [
    "import numpy as np   \n",
    "import pandas as pd\n",
    "import csv \n",
    "from pgmpy.estimators import MaximumLikelihoodEstimator    \n",
    "from pgmpy.models import BayesianModel    \n",
    "from pgmpy.inference import VariableElimination \n"
   ]
  },
  {
   "cell_type": "code",
   "execution_count": 13,
   "metadata": {},
   "outputs": [],
   "source": [
    "#Read the attributes    \n",
    "lines = list(csv.reader(open('C:\\\\Users\\\\This PC\\\\Desktop\\\\MLLAB\\\\data7_names.csv', 'r')));     \n",
    "attributes = lines[0]    \n",
    "#Read Cleveland Heart dicease data    \n",
    "heartDisease = pd.read_csv('C:\\\\Users\\\\This PC\\\\Desktop\\\\MLLAB\\\\data7_heart.csv', names = attributes)     \n",
    "heartDisease = heartDisease.replace('?', np.nan)"
   ]
  },
  {
   "cell_type": "code",
   "execution_count": 34,
   "metadata": {},
   "outputs": [
    {
     "name": "stdout",
     "output_type": "stream",
     "text": [
      "Few examples from the dataset are given below\n",
      "     age  sex   cp  trestbps   chol  fbs  restecg  thalach  exang  oldpeak  \\\n",
      "0   63.0  1.0  1.0     145.0  233.0  1.0      2.0    150.0    0.0      2.3   \n",
      "1   67.0  1.0  4.0     160.0  286.0  0.0      2.0    108.0    1.0      1.5   \n",
      "2   67.0  1.0  4.0     120.0  229.0  0.0      2.0    129.0    1.0      2.6   \n",
      "3   37.0  1.0  3.0     130.0  250.0  0.0      0.0    187.0    0.0      3.5   \n",
      "4   41.0  0.0  2.0     130.0  204.0  0.0      2.0    172.0    0.0      1.4   \n",
      "5   56.0  1.0  2.0     120.0  236.0  0.0      0.0    178.0    0.0      0.8   \n",
      "6   62.0  0.0  4.0     140.0  268.0  0.0      2.0    160.0    0.0      3.6   \n",
      "7   57.0  0.0  4.0     120.0  354.0  0.0      0.0    163.0    1.0      0.6   \n",
      "8   63.0  1.0  4.0     130.0  254.0  0.0      2.0    147.0    0.0      1.4   \n",
      "9   53.0  1.0  4.0     140.0  203.0  1.0      2.0    155.0    1.0      3.1   \n",
      "10  57.0  1.0  4.0     140.0  192.0  0.0      0.0    148.0    0.0      0.4   \n",
      "11  56.0  0.0  2.0     140.0  294.0  0.0      2.0    153.0    0.0      1.3   \n",
      "12  56.0  1.0  3.0     130.0  256.0  1.0      2.0    142.0    1.0      0.6   \n",
      "13  44.0  1.0  2.0     120.0  263.0  0.0      0.0    173.0    0.0      0.0   \n",
      "14  52.0  1.0  3.0     172.0  199.0  1.0      0.0    162.0    0.0      0.5   \n",
      "15  57.0  1.0  3.0     150.0  168.0  0.0      0.0    174.0    0.0      1.6   \n",
      "16  48.0  1.0  2.0     110.0  229.0  0.0      0.0    168.0    0.0      1.0   \n",
      "17  54.0  1.0  4.0     140.0  239.0  0.0      0.0    160.0    0.0      1.2   \n",
      "18  48.0  0.0  3.0     130.0  275.0  0.0      0.0    139.0    0.0      0.2   \n",
      "19  49.0  1.0  2.0     130.0  266.0  0.0      0.0    171.0    0.0      0.6   \n",
      "\n",
      "    slope   ca thal  heartdisease  \n",
      "0     3.0  0.0  6.0             0  \n",
      "1     2.0  3.0  3.0             2  \n",
      "2     2.0  2.0  7.0             1  \n",
      "3     3.0  0.0  3.0             0  \n",
      "4     1.0  0.0  3.0             0  \n",
      "5     1.0  0.0  3.0             0  \n",
      "6     3.0  2.0  3.0             3  \n",
      "7     1.0  0.0  3.0             0  \n",
      "8     2.0  1.0  7.0             2  \n",
      "9     3.0  0.0  7.0             1  \n",
      "10    2.0  0.0  6.0             0  \n",
      "11    2.0  0.0  3.0             0  \n",
      "12    2.0  1.0  6.0             2  \n",
      "13    1.0  0.0  7.0             0  \n",
      "14    1.0  0.0  7.0             0  \n",
      "15    1.0  0.0  3.0             0  \n",
      "16    3.0  0.0  7.0             1  \n",
      "17    1.0  0.0  3.0             0  \n",
      "18    1.0  0.0  3.0             0  \n",
      "19    1.0  0.0  3.0             0  \n",
      "\n",
      "Attributes and datatypes\n",
      "heartDisease.dtypes\n"
     ]
    }
   ],
   "source": [
    "# Display the data     \n",
    "print('Few examples from the dataset are given below')    \n",
    "print(heartDisease.head(20))    \n",
    "print('\\nAttributes and datatypes')    \n",
    "print('heartDisease.dtypes')"
   ]
  },
  {
   "cell_type": "code",
   "execution_count": 20,
   "metadata": {},
   "outputs": [],
   "source": [
    " # Model Baysian Network    \n",
    "model = BayesianModel([('age', 'trestbps'), ('age', 'fbs'), ('sex', 'trestbps'), ('sex', 'trestbps'),\n",
    "                       ('exang', 'trestbps'),('trestbps','heartdisease'),('fbs','heartdisease'),                 \n",
    "                       ('heartdisease','restecg'),('heartdisease','thalach'),('heartdisease','chol')]) "
   ]
  },
  {
   "cell_type": "code",
   "execution_count": 21,
   "metadata": {},
   "outputs": [
    {
     "name": "stdout",
     "output_type": "stream",
     "text": [
      "\n",
      "Learning CPDs using Maximum Likelihood Estimators...\n"
     ]
    }
   ],
   "source": [
    "# Learning CPDs using Maximum Likelihood Estimators   \n",
    "print('\\nLearning CPDs using Maximum Likelihood Estimators...');   \n",
    "model.fit(heartDisease, estimator=MaximumLikelihoodEstimator) "
   ]
  },
  {
   "cell_type": "code",
   "execution_count": 22,
   "metadata": {},
   "outputs": [
    {
     "name": "stdout",
     "output_type": "stream",
     "text": [
      "\n",
      "Inferencing with Bayesian Network:\n"
     ]
    }
   ],
   "source": [
    " # Inferencing with Bayesian Network   \n",
    "print('\\nInferencing with Bayesian Network:')   \n",
    "HeartDisease_infer = VariableElimination(model)     "
   ]
  },
  {
   "cell_type": "code",
   "execution_count": 35,
   "metadata": {},
   "outputs": [
    {
     "name": "stdout",
     "output_type": "stream",
     "text": [
      "\n",
      "1.Probability of HeartDisease given Age=28\n",
      "╒════════════════╤═════════════════════╕\n",
      "│ heartdisease   │   phi(heartdisease) │\n",
      "╞════════════════╪═════════════════════╡\n",
      "│ heartdisease_0 │              0.4759 │\n",
      "├────────────────┼─────────────────────┤\n",
      "│ heartdisease_1 │              0.1666 │\n",
      "├────────────────┼─────────────────────┤\n",
      "│ heartdisease_2 │              0.1989 │\n",
      "├────────────────┼─────────────────────┤\n",
      "│ heartdisease_3 │              0.1140 │\n",
      "├────────────────┼─────────────────────┤\n",
      "│ heartdisease_4 │              0.0445 │\n",
      "╘════════════════╧═════════════════════╛\n"
     ]
    }
   ],
   "source": [
    "   \n",
    "print('\\n1.Probability of HeartDisease given Age=28') \n",
    "q = HeartDisease_infer.query(variables=['heartdisease'], evidence={'age': 30})   \n",
    "print(q['heartdisease']) "
   ]
  },
  {
   "cell_type": "code",
   "execution_count": 33,
   "metadata": {},
   "outputs": [
    {
     "name": "stdout",
     "output_type": "stream",
     "text": [
      "\n",
      "2. Probability of HeartDisease given chol (Cholestoral) =100\n",
      "╒════════════════╤═════════════════════╕\n",
      "│ heartdisease   │   phi(heartdisease) │\n",
      "╞════════════════╪═════════════════════╡\n",
      "│ heartdisease_0 │              0.5400 │\n",
      "├────────────────┼─────────────────────┤\n",
      "│ heartdisease_1 │              0.1533 │\n",
      "├────────────────┼─────────────────────┤\n",
      "│ heartdisease_2 │              0.1303 │\n",
      "├────────────────┼─────────────────────┤\n",
      "│ heartdisease_3 │              0.1259 │\n",
      "├────────────────┼─────────────────────┤\n",
      "│ heartdisease_4 │              0.0506 │\n",
      "╘════════════════╧═════════════════════╛\n"
     ]
    }
   ],
   "source": [
    "print('\\n2. Probability of HeartDisease given chol (Cholestoral) =100')   \n",
    "q = HeartDisease_infer.query(variables=['heartdisease'], evidence={'chol': 100})    \n",
    "print(q['heartdisease']) "
   ]
  },
  {
   "cell_type": "code",
   "execution_count": 25,
   "metadata": {},
   "outputs": [
    {
     "name": "stdout",
     "output_type": "stream",
     "text": [
      "\n",
      "2. Probability of HeartDisease given chol (Cholestoral) =100\n",
      "╒════════════════╤═════════════════════╕\n",
      "│ heartdisease   │   phi(heartdisease) │\n",
      "╞════════════════╪═════════════════════╡\n",
      "│ heartdisease_0 │              0.5400 │\n",
      "├────────────────┼─────────────────────┤\n",
      "│ heartdisease_1 │              0.1533 │\n",
      "├────────────────┼─────────────────────┤\n",
      "│ heartdisease_2 │              0.1303 │\n",
      "├────────────────┼─────────────────────┤\n",
      "│ heartdisease_3 │              0.1259 │\n",
      "├────────────────┼─────────────────────┤\n",
      "│ heartdisease_4 │              0.0506 │\n",
      "╘════════════════╧═════════════════════╛\n"
     ]
    }
   ],
   "source": [
    "print('\\n2. Probability of HeartDisease given chol (Cholestoral) =100')   \n",
    "q = HeartDisease_infer.query(variables=['heartdisease'], evidence={'chol': 100})    \n",
    "print(q['heartdisease']) "
   ]
  },
  {
   "cell_type": "code",
   "execution_count": null,
   "metadata": {},
   "outputs": [],
   "source": []
  }
 ],
 "metadata": {
  "kernelspec": {
   "display_name": "Python 3",
   "language": "python",
   "name": "python3"
  },
  "language_info": {
   "codemirror_mode": {
    "name": "ipython",
    "version": 3
   },
   "file_extension": ".py",
   "mimetype": "text/x-python",
   "name": "python",
   "nbconvert_exporter": "python",
   "pygments_lexer": "ipython3",
   "version": "3.6.5"
  }
 },
 "nbformat": 4,
 "nbformat_minor": 2
}
